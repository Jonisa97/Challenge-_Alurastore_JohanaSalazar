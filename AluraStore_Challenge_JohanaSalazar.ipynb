{
  "nbformat": 4,
  "nbformat_minor": 0,
  "metadata": {
    "colab": {
      "provenance": []
    },
    "kernelspec": {
      "name": "python3",
      "display_name": "Python 3"
    },
    "language_info": {
      "name": "python"
    }
  },
  "cells": [
    {
      "cell_type": "markdown",
      "source": [
        "### Importación de datos\n",
        "\n"
      ],
      "metadata": {
        "id": "RhEdWd9YUR6H"
      }
    },
    {
      "cell_type": "code",
      "execution_count": null,
      "metadata": {
        "colab": {
          "base_uri": "https://localhost:8080/",
          "height": 206
        },
        "id": "T3EvaeQ_INIL",
        "outputId": "b16f92a0-2158-4528-8bfa-276dc0319a13"
      },
      "outputs": [
        {
          "output_type": "execute_result",
          "data": {
            "text/plain": [
              "            Producto Categoría del Producto    Precio  Costo de envío  \\\n",
              "0  Asistente virtual           Electrónicos  164300.0          6900.0   \n",
              "1    Mesa de comedor                Muebles  192300.0          8400.0   \n",
              "2      Juego de mesa               Juguetes  209600.0         15900.0   \n",
              "3         Microondas      Electrodomésticos  757500.0         41000.0   \n",
              "4   Silla de oficina                Muebles  335200.0         20200.0   \n",
              "\n",
              "  Fecha de Compra         Vendedor Lugar de Compra  Calificación  \\\n",
              "0      16/01/2021      Pedro Gomez          Bogotá             4   \n",
              "1      18/05/2022  Beatriz Morales        Medellín             1   \n",
              "2      15/03/2021   Juan Fernandez       Cartagena             1   \n",
              "3      03/05/2022   Juan Fernandez            Cali             4   \n",
              "4      07/11/2020    Maria Alfonso        Medellín             5   \n",
              "\n",
              "       Método de pago  Cantidad de cuotas       lat       lon  \n",
              "0  Tarjeta de crédito                   8   4.60971 -74.08175  \n",
              "1  Tarjeta de crédito                   4   6.25184 -75.56359  \n",
              "2  Tarjeta de crédito                   1  10.39972 -75.51444  \n",
              "3               Nequi                   1   3.43722 -76.52250  \n",
              "4               Nequi                   1   6.25184 -75.56359  "
            ],
            "text/html": [
              "\n",
              "  <div id=\"df-9a49adb7-111e-4fbb-8d57-bde91fa4dc1d\" class=\"colab-df-container\">\n",
              "    <div>\n",
              "<style scoped>\n",
              "    .dataframe tbody tr th:only-of-type {\n",
              "        vertical-align: middle;\n",
              "    }\n",
              "\n",
              "    .dataframe tbody tr th {\n",
              "        vertical-align: top;\n",
              "    }\n",
              "\n",
              "    .dataframe thead th {\n",
              "        text-align: right;\n",
              "    }\n",
              "</style>\n",
              "<table border=\"1\" class=\"dataframe\">\n",
              "  <thead>\n",
              "    <tr style=\"text-align: right;\">\n",
              "      <th></th>\n",
              "      <th>Producto</th>\n",
              "      <th>Categoría del Producto</th>\n",
              "      <th>Precio</th>\n",
              "      <th>Costo de envío</th>\n",
              "      <th>Fecha de Compra</th>\n",
              "      <th>Vendedor</th>\n",
              "      <th>Lugar de Compra</th>\n",
              "      <th>Calificación</th>\n",
              "      <th>Método de pago</th>\n",
              "      <th>Cantidad de cuotas</th>\n",
              "      <th>lat</th>\n",
              "      <th>lon</th>\n",
              "    </tr>\n",
              "  </thead>\n",
              "  <tbody>\n",
              "    <tr>\n",
              "      <th>0</th>\n",
              "      <td>Asistente virtual</td>\n",
              "      <td>Electrónicos</td>\n",
              "      <td>164300.0</td>\n",
              "      <td>6900.0</td>\n",
              "      <td>16/01/2021</td>\n",
              "      <td>Pedro Gomez</td>\n",
              "      <td>Bogotá</td>\n",
              "      <td>4</td>\n",
              "      <td>Tarjeta de crédito</td>\n",
              "      <td>8</td>\n",
              "      <td>4.60971</td>\n",
              "      <td>-74.08175</td>\n",
              "    </tr>\n",
              "    <tr>\n",
              "      <th>1</th>\n",
              "      <td>Mesa de comedor</td>\n",
              "      <td>Muebles</td>\n",
              "      <td>192300.0</td>\n",
              "      <td>8400.0</td>\n",
              "      <td>18/05/2022</td>\n",
              "      <td>Beatriz Morales</td>\n",
              "      <td>Medellín</td>\n",
              "      <td>1</td>\n",
              "      <td>Tarjeta de crédito</td>\n",
              "      <td>4</td>\n",
              "      <td>6.25184</td>\n",
              "      <td>-75.56359</td>\n",
              "    </tr>\n",
              "    <tr>\n",
              "      <th>2</th>\n",
              "      <td>Juego de mesa</td>\n",
              "      <td>Juguetes</td>\n",
              "      <td>209600.0</td>\n",
              "      <td>15900.0</td>\n",
              "      <td>15/03/2021</td>\n",
              "      <td>Juan Fernandez</td>\n",
              "      <td>Cartagena</td>\n",
              "      <td>1</td>\n",
              "      <td>Tarjeta de crédito</td>\n",
              "      <td>1</td>\n",
              "      <td>10.39972</td>\n",
              "      <td>-75.51444</td>\n",
              "    </tr>\n",
              "    <tr>\n",
              "      <th>3</th>\n",
              "      <td>Microondas</td>\n",
              "      <td>Electrodomésticos</td>\n",
              "      <td>757500.0</td>\n",
              "      <td>41000.0</td>\n",
              "      <td>03/05/2022</td>\n",
              "      <td>Juan Fernandez</td>\n",
              "      <td>Cali</td>\n",
              "      <td>4</td>\n",
              "      <td>Nequi</td>\n",
              "      <td>1</td>\n",
              "      <td>3.43722</td>\n",
              "      <td>-76.52250</td>\n",
              "    </tr>\n",
              "    <tr>\n",
              "      <th>4</th>\n",
              "      <td>Silla de oficina</td>\n",
              "      <td>Muebles</td>\n",
              "      <td>335200.0</td>\n",
              "      <td>20200.0</td>\n",
              "      <td>07/11/2020</td>\n",
              "      <td>Maria Alfonso</td>\n",
              "      <td>Medellín</td>\n",
              "      <td>5</td>\n",
              "      <td>Nequi</td>\n",
              "      <td>1</td>\n",
              "      <td>6.25184</td>\n",
              "      <td>-75.56359</td>\n",
              "    </tr>\n",
              "  </tbody>\n",
              "</table>\n",
              "</div>\n",
              "    <div class=\"colab-df-buttons\">\n",
              "\n",
              "  <div class=\"colab-df-container\">\n",
              "    <button class=\"colab-df-convert\" onclick=\"convertToInteractive('df-9a49adb7-111e-4fbb-8d57-bde91fa4dc1d')\"\n",
              "            title=\"Convert this dataframe to an interactive table.\"\n",
              "            style=\"display:none;\">\n",
              "\n",
              "  <svg xmlns=\"http://www.w3.org/2000/svg\" height=\"24px\" viewBox=\"0 -960 960 960\">\n",
              "    <path d=\"M120-120v-720h720v720H120Zm60-500h600v-160H180v160Zm220 220h160v-160H400v160Zm0 220h160v-160H400v160ZM180-400h160v-160H180v160Zm440 0h160v-160H620v160ZM180-180h160v-160H180v160Zm440 0h160v-160H620v160Z\"/>\n",
              "  </svg>\n",
              "    </button>\n",
              "\n",
              "  <style>\n",
              "    .colab-df-container {\n",
              "      display:flex;\n",
              "      gap: 12px;\n",
              "    }\n",
              "\n",
              "    .colab-df-convert {\n",
              "      background-color: #E8F0FE;\n",
              "      border: none;\n",
              "      border-radius: 50%;\n",
              "      cursor: pointer;\n",
              "      display: none;\n",
              "      fill: #1967D2;\n",
              "      height: 32px;\n",
              "      padding: 0 0 0 0;\n",
              "      width: 32px;\n",
              "    }\n",
              "\n",
              "    .colab-df-convert:hover {\n",
              "      background-color: #E2EBFA;\n",
              "      box-shadow: 0px 1px 2px rgba(60, 64, 67, 0.3), 0px 1px 3px 1px rgba(60, 64, 67, 0.15);\n",
              "      fill: #174EA6;\n",
              "    }\n",
              "\n",
              "    .colab-df-buttons div {\n",
              "      margin-bottom: 4px;\n",
              "    }\n",
              "\n",
              "    [theme=dark] .colab-df-convert {\n",
              "      background-color: #3B4455;\n",
              "      fill: #D2E3FC;\n",
              "    }\n",
              "\n",
              "    [theme=dark] .colab-df-convert:hover {\n",
              "      background-color: #434B5C;\n",
              "      box-shadow: 0px 1px 3px 1px rgba(0, 0, 0, 0.15);\n",
              "      filter: drop-shadow(0px 1px 2px rgba(0, 0, 0, 0.3));\n",
              "      fill: #FFFFFF;\n",
              "    }\n",
              "  </style>\n",
              "\n",
              "    <script>\n",
              "      const buttonEl =\n",
              "        document.querySelector('#df-9a49adb7-111e-4fbb-8d57-bde91fa4dc1d button.colab-df-convert');\n",
              "      buttonEl.style.display =\n",
              "        google.colab.kernel.accessAllowed ? 'block' : 'none';\n",
              "\n",
              "      async function convertToInteractive(key) {\n",
              "        const element = document.querySelector('#df-9a49adb7-111e-4fbb-8d57-bde91fa4dc1d');\n",
              "        const dataTable =\n",
              "          await google.colab.kernel.invokeFunction('convertToInteractive',\n",
              "                                                    [key], {});\n",
              "        if (!dataTable) return;\n",
              "\n",
              "        const docLinkHtml = 'Like what you see? Visit the ' +\n",
              "          '<a target=\"_blank\" href=https://colab.research.google.com/notebooks/data_table.ipynb>data table notebook</a>'\n",
              "          + ' to learn more about interactive tables.';\n",
              "        element.innerHTML = '';\n",
              "        dataTable['output_type'] = 'display_data';\n",
              "        await google.colab.output.renderOutput(dataTable, element);\n",
              "        const docLink = document.createElement('div');\n",
              "        docLink.innerHTML = docLinkHtml;\n",
              "        element.appendChild(docLink);\n",
              "      }\n",
              "    </script>\n",
              "  </div>\n",
              "\n",
              "\n",
              "    <div id=\"df-4f3752a0-aafe-436a-a107-55557fdbbf16\">\n",
              "      <button class=\"colab-df-quickchart\" onclick=\"quickchart('df-4f3752a0-aafe-436a-a107-55557fdbbf16')\"\n",
              "                title=\"Suggest charts\"\n",
              "                style=\"display:none;\">\n",
              "\n",
              "<svg xmlns=\"http://www.w3.org/2000/svg\" height=\"24px\"viewBox=\"0 0 24 24\"\n",
              "     width=\"24px\">\n",
              "    <g>\n",
              "        <path d=\"M19 3H5c-1.1 0-2 .9-2 2v14c0 1.1.9 2 2 2h14c1.1 0 2-.9 2-2V5c0-1.1-.9-2-2-2zM9 17H7v-7h2v7zm4 0h-2V7h2v10zm4 0h-2v-4h2v4z\"/>\n",
              "    </g>\n",
              "</svg>\n",
              "      </button>\n",
              "\n",
              "<style>\n",
              "  .colab-df-quickchart {\n",
              "      --bg-color: #E8F0FE;\n",
              "      --fill-color: #1967D2;\n",
              "      --hover-bg-color: #E2EBFA;\n",
              "      --hover-fill-color: #174EA6;\n",
              "      --disabled-fill-color: #AAA;\n",
              "      --disabled-bg-color: #DDD;\n",
              "  }\n",
              "\n",
              "  [theme=dark] .colab-df-quickchart {\n",
              "      --bg-color: #3B4455;\n",
              "      --fill-color: #D2E3FC;\n",
              "      --hover-bg-color: #434B5C;\n",
              "      --hover-fill-color: #FFFFFF;\n",
              "      --disabled-bg-color: #3B4455;\n",
              "      --disabled-fill-color: #666;\n",
              "  }\n",
              "\n",
              "  .colab-df-quickchart {\n",
              "    background-color: var(--bg-color);\n",
              "    border: none;\n",
              "    border-radius: 50%;\n",
              "    cursor: pointer;\n",
              "    display: none;\n",
              "    fill: var(--fill-color);\n",
              "    height: 32px;\n",
              "    padding: 0;\n",
              "    width: 32px;\n",
              "  }\n",
              "\n",
              "  .colab-df-quickchart:hover {\n",
              "    background-color: var(--hover-bg-color);\n",
              "    box-shadow: 0 1px 2px rgba(60, 64, 67, 0.3), 0 1px 3px 1px rgba(60, 64, 67, 0.15);\n",
              "    fill: var(--button-hover-fill-color);\n",
              "  }\n",
              "\n",
              "  .colab-df-quickchart-complete:disabled,\n",
              "  .colab-df-quickchart-complete:disabled:hover {\n",
              "    background-color: var(--disabled-bg-color);\n",
              "    fill: var(--disabled-fill-color);\n",
              "    box-shadow: none;\n",
              "  }\n",
              "\n",
              "  .colab-df-spinner {\n",
              "    border: 2px solid var(--fill-color);\n",
              "    border-color: transparent;\n",
              "    border-bottom-color: var(--fill-color);\n",
              "    animation:\n",
              "      spin 1s steps(1) infinite;\n",
              "  }\n",
              "\n",
              "  @keyframes spin {\n",
              "    0% {\n",
              "      border-color: transparent;\n",
              "      border-bottom-color: var(--fill-color);\n",
              "      border-left-color: var(--fill-color);\n",
              "    }\n",
              "    20% {\n",
              "      border-color: transparent;\n",
              "      border-left-color: var(--fill-color);\n",
              "      border-top-color: var(--fill-color);\n",
              "    }\n",
              "    30% {\n",
              "      border-color: transparent;\n",
              "      border-left-color: var(--fill-color);\n",
              "      border-top-color: var(--fill-color);\n",
              "      border-right-color: var(--fill-color);\n",
              "    }\n",
              "    40% {\n",
              "      border-color: transparent;\n",
              "      border-right-color: var(--fill-color);\n",
              "      border-top-color: var(--fill-color);\n",
              "    }\n",
              "    60% {\n",
              "      border-color: transparent;\n",
              "      border-right-color: var(--fill-color);\n",
              "    }\n",
              "    80% {\n",
              "      border-color: transparent;\n",
              "      border-right-color: var(--fill-color);\n",
              "      border-bottom-color: var(--fill-color);\n",
              "    }\n",
              "    90% {\n",
              "      border-color: transparent;\n",
              "      border-bottom-color: var(--fill-color);\n",
              "    }\n",
              "  }\n",
              "</style>\n",
              "\n",
              "      <script>\n",
              "        async function quickchart(key) {\n",
              "          const quickchartButtonEl =\n",
              "            document.querySelector('#' + key + ' button');\n",
              "          quickchartButtonEl.disabled = true;  // To prevent multiple clicks.\n",
              "          quickchartButtonEl.classList.add('colab-df-spinner');\n",
              "          try {\n",
              "            const charts = await google.colab.kernel.invokeFunction(\n",
              "                'suggestCharts', [key], {});\n",
              "          } catch (error) {\n",
              "            console.error('Error during call to suggestCharts:', error);\n",
              "          }\n",
              "          quickchartButtonEl.classList.remove('colab-df-spinner');\n",
              "          quickchartButtonEl.classList.add('colab-df-quickchart-complete');\n",
              "        }\n",
              "        (() => {\n",
              "          let quickchartButtonEl =\n",
              "            document.querySelector('#df-4f3752a0-aafe-436a-a107-55557fdbbf16 button');\n",
              "          quickchartButtonEl.style.display =\n",
              "            google.colab.kernel.accessAllowed ? 'block' : 'none';\n",
              "        })();\n",
              "      </script>\n",
              "    </div>\n",
              "\n",
              "    </div>\n",
              "  </div>\n"
            ],
            "application/vnd.google.colaboratory.intrinsic+json": {
              "type": "dataframe",
              "variable_name": "tienda",
              "summary": "{\n  \"name\": \"tienda\",\n  \"rows\": 2359,\n  \"fields\": [\n    {\n      \"column\": \"Producto\",\n      \"properties\": {\n        \"dtype\": \"category\",\n        \"num_unique_values\": 51,\n        \"samples\": [\n          \"Guitarra ac\\u00fastica\",\n          \"Bal\\u00f3n de baloncesto\",\n          \"Smartwatch\"\n        ],\n        \"semantic_type\": \"\",\n        \"description\": \"\"\n      }\n    },\n    {\n      \"column\": \"Categor\\u00eda del Producto\",\n      \"properties\": {\n        \"dtype\": \"category\",\n        \"num_unique_values\": 8,\n        \"samples\": [\n          \"Muebles\",\n          \"Deportes y diversi\\u00f3n\",\n          \"Electr\\u00f3nicos\"\n        ],\n        \"semantic_type\": \"\",\n        \"description\": \"\"\n      }\n    },\n    {\n      \"column\": \"Precio\",\n      \"properties\": {\n        \"dtype\": \"number\",\n        \"std\": 614686.7653873172,\n        \"min\": 7600.0,\n        \"max\": 2977000.0,\n        \"num_unique_values\": 1937,\n        \"samples\": [\n          2499400.0,\n          14800.0,\n          80500.0\n        ],\n        \"semantic_type\": \"\",\n        \"description\": \"\"\n      }\n    },\n    {\n      \"column\": \"Costo de env\\u00edo\",\n      \"properties\": {\n        \"dtype\": \"number\",\n        \"std\": 32860.0017825605,\n        \"min\": 0.0,\n        \"max\": 160800.0,\n        \"num_unique_values\": 753,\n        \"samples\": [\n          117800.0,\n          54700.0,\n          45600.0\n        ],\n        \"semantic_type\": \"\",\n        \"description\": \"\"\n      }\n    },\n    {\n      \"column\": \"Fecha de Compra\",\n      \"properties\": {\n        \"dtype\": \"object\",\n        \"num_unique_values\": 1018,\n        \"samples\": [\n          \"15/09/2022\",\n          \"03/06/2020\",\n          \"06/11/2021\"\n        ],\n        \"semantic_type\": \"\",\n        \"description\": \"\"\n      }\n    },\n    {\n      \"column\": \"Vendedor\",\n      \"properties\": {\n        \"dtype\": \"category\",\n        \"num_unique_values\": 14,\n        \"samples\": [\n          \"Juliana Costa\",\n          \"Mariana Herrera\",\n          \"Pedro Gomez\"\n        ],\n        \"semantic_type\": \"\",\n        \"description\": \"\"\n      }\n    },\n    {\n      \"column\": \"Lugar de Compra\",\n      \"properties\": {\n        \"dtype\": \"category\",\n        \"num_unique_values\": 19,\n        \"samples\": [\n          \"Bogot\\u00e1\",\n          \"Pereira\",\n          \"Neiva\"\n        ],\n        \"semantic_type\": \"\",\n        \"description\": \"\"\n      }\n    },\n    {\n      \"column\": \"Calificaci\\u00f3n\",\n      \"properties\": {\n        \"dtype\": \"number\",\n        \"std\": 1,\n        \"min\": 1,\n        \"max\": 5,\n        \"num_unique_values\": 5,\n        \"samples\": [\n          1,\n          2,\n          5\n        ],\n        \"semantic_type\": \"\",\n        \"description\": \"\"\n      }\n    },\n    {\n      \"column\": \"M\\u00e9todo de pago\",\n      \"properties\": {\n        \"dtype\": \"category\",\n        \"num_unique_values\": 4,\n        \"samples\": [\n          \"Nequi\",\n          \"Tarjeta de d\\u00e9bito\",\n          \"Tarjeta de cr\\u00e9dito\"\n        ],\n        \"semantic_type\": \"\",\n        \"description\": \"\"\n      }\n    },\n    {\n      \"column\": \"Cantidad de cuotas\",\n      \"properties\": {\n        \"dtype\": \"number\",\n        \"std\": 2,\n        \"min\": 1,\n        \"max\": 24,\n        \"num_unique_values\": 15,\n        \"samples\": [\n          7,\n          14,\n          8\n        ],\n        \"semantic_type\": \"\",\n        \"description\": \"\"\n      }\n    },\n    {\n      \"column\": \"lat\",\n      \"properties\": {\n        \"dtype\": \"number\",\n        \"std\": 2.2874452492678627,\n        \"min\": -4.21528,\n        \"max\": 11.54444,\n        \"num_unique_values\": 19,\n        \"samples\": [\n          4.60971,\n          4.81333,\n          2.9273\n        ],\n        \"semantic_type\": \"\",\n        \"description\": \"\"\n      }\n    },\n    {\n      \"column\": \"lon\",\n      \"properties\": {\n        \"dtype\": \"number\",\n        \"std\": 1.2178272727088486,\n        \"min\": -77.28111,\n        \"max\": -67.9239,\n        \"num_unique_values\": 19,\n        \"samples\": [\n          -74.08175,\n          -75.69611,\n          -75.28189\n        ],\n        \"semantic_type\": \"\",\n        \"description\": \"\"\n      }\n    }\n  ]\n}"
            }
          },
          "metadata": {},
          "execution_count": 2
        }
      ],
      "source": [
        "import pandas as pd\n",
        "\n",
        "url = \"https://raw.githubusercontent.com/alura-es-cursos/challenge1-data-science-latam/refs/heads/main/base-de-datos-challenge1-latam/tienda_1%20.csv\"\n",
        "url2 = \"https://raw.githubusercontent.com/alura-es-cursos/challenge1-data-science-latam/refs/heads/main/base-de-datos-challenge1-latam/tienda_2.csv\"\n",
        "url3 = \"https://raw.githubusercontent.com/alura-es-cursos/challenge1-data-science-latam/refs/heads/main/base-de-datos-challenge1-latam/tienda_3.csv\"\n",
        "url4 = \"https://raw.githubusercontent.com/alura-es-cursos/challenge1-data-science-latam/refs/heads/main/base-de-datos-challenge1-latam/tienda_4.csv\"\n",
        "\n",
        "tienda = pd.read_csv(url)\n",
        "tienda2 = pd.read_csv(url2)\n",
        "tienda3 = pd.read_csv(url3)\n",
        "tienda4 = pd.read_csv(url4)\n",
        "\n",
        "tienda.head()"
      ]
    },
    {
      "cell_type": "markdown",
      "source": [
        "#1. Análisis de facturación\n",
        "\n"
      ],
      "metadata": {
        "id": "X62IW3KFUIYm"
      }
    },
    {
      "cell_type": "code",
      "source": [
        "# Ingresos por tienda\n",
        "ingreso_tienda1 = tienda[\"Precio\"].sum()\n",
        "ingreso_tienda2 = tienda2[\"Precio\"].sum()\n",
        "ingreso_tienda3 = tienda3[\"Precio\"].sum()\n",
        "ingreso_tienda4 = tienda4[\"Precio\"].sum()\n",
        "\n",
        "# Mostrar resultados\n",
        "print(\"Ingreso total tienda 1:\", ingreso_tienda1)\n",
        "print(\"Ingreso total tienda 2:\", ingreso_tienda2)\n",
        "print(\"Ingreso total tienda 3:\", ingreso_tienda3)\n",
        "print(\"Ingreso total tienda 4:\", ingreso_tienda4)\n"
      ],
      "metadata": {
        "id": "xykobSftV64I",
        "colab": {
          "base_uri": "https://localhost:8080/"
        },
        "outputId": "c41b0eff-c296-488f-cebe-41bed086f799"
      },
      "execution_count": null,
      "outputs": [
        {
          "output_type": "stream",
          "name": "stdout",
          "text": [
            "Ingreso total tienda 1: 1150880400.0\n",
            "Ingreso total tienda 2: 1116343500.0\n",
            "Ingreso total tienda 3: 1098019600.0\n",
            "Ingreso total tienda 4: 1038375700.0\n"
          ]
        }
      ]
    },
    {
      "cell_type": "code",
      "source": [
        "# Crear un resumen en un DataFrame\n",
        "import pandas as pd\n",
        "\n",
        "ingresos = pd.DataFrame({\n",
        "    \"Tienda\": [\"Tienda 1\", \"Tienda 2\", \"Tienda 3\", \"Tienda 4\"],\n",
        "    \"Ingreso Total\": [ingreso_tienda1, ingreso_tienda2, ingreso_tienda3, ingreso_tienda4]\n",
        "})\n",
        "\n",
        "print(ingresos)\n"
      ],
      "metadata": {
        "id": "KDyr8E71V3m-",
        "colab": {
          "base_uri": "https://localhost:8080/"
        },
        "outputId": "5f565109-4139-4697-dbe5-bea183ae0e6f"
      },
      "execution_count": null,
      "outputs": [
        {
          "output_type": "stream",
          "name": "stdout",
          "text": [
            "     Tienda  Ingreso Total\n",
            "0  Tienda 1   1.150880e+09\n",
            "1  Tienda 2   1.116344e+09\n",
            "2  Tienda 3   1.098020e+09\n",
            "3  Tienda 4   1.038376e+09\n"
          ]
        }
      ]
    },
    {
      "cell_type": "markdown",
      "source": [
        "# 2. Ventas por categoría"
      ],
      "metadata": {
        "id": "2V_vcAPzWZmR"
      }
    },
    {
      "cell_type": "code",
      "source": [
        "# Cantidad de productos vendidos por categoría en cada tienda\n",
        "cat_tienda1 = tienda.groupby(\"Categoría del Producto\").size().sort_values(ascending=False).to_string()\n",
        "cat_tienda2 = tienda2.groupby(\"Categoría del Producto\").size().sort_values(ascending=False).to_string()\n",
        "cat_tienda3 = tienda3.groupby(\"Categoría del Producto\").size().sort_values(ascending=False).to_string()\n",
        "cat_tienda4 = tienda4.groupby(\"Categoría del Producto\").size().sort_values(ascending=False).to_string()\n",
        "\n",
        "# Mostrar resultados\n",
        "print(\"Tienda 1:\\n\", cat_tienda1, \"\\n\")\n",
        "print(\"Tienda 2:\\n\", cat_tienda2, \"\\n\")\n",
        "print(\"Tienda 3:\\n\", cat_tienda3, \"\\n\")\n",
        "print(\"Tienda 4:\\n\", cat_tienda4, \"\\n\")\n"
      ],
      "metadata": {
        "id": "A34YupIuYhfF",
        "colab": {
          "base_uri": "https://localhost:8080/"
        },
        "outputId": "c0872a28-46bc-4a68-c59a-893c2bdcf465"
      },
      "execution_count": null,
      "outputs": [
        {
          "output_type": "stream",
          "name": "stdout",
          "text": [
            "Tienda 1:\n",
            " Categoría del Producto\n",
            "Muebles                    465\n",
            "Electrónicos               448\n",
            "Juguetes                   324\n",
            "Electrodomésticos          312\n",
            "Deportes y diversión       284\n",
            "Instrumentos musicales     182\n",
            "Libros                     173\n",
            "Artículos para el hogar    171 \n",
            "\n",
            "Tienda 2:\n",
            " Categoría del Producto\n",
            "Muebles                    442\n",
            "Electrónicos               422\n",
            "Juguetes                   313\n",
            "Electrodomésticos          305\n",
            "Deportes y diversión       275\n",
            "Instrumentos musicales     224\n",
            "Libros                     197\n",
            "Artículos para el hogar    181 \n",
            "\n",
            "Tienda 3:\n",
            " Categoría del Producto\n",
            "Muebles                    499\n",
            "Electrónicos               451\n",
            "Juguetes                   315\n",
            "Electrodomésticos          278\n",
            "Deportes y diversión       277\n",
            "Libros                     185\n",
            "Artículos para el hogar    177\n",
            "Instrumentos musicales     177 \n",
            "\n",
            "Tienda 4:\n",
            " Categoría del Producto\n",
            "Muebles                    480\n",
            "Electrónicos               451\n",
            "Juguetes                   338\n",
            "Deportes y diversión       277\n",
            "Electrodomésticos          254\n",
            "Artículos para el hogar    201\n",
            "Libros                     187\n",
            "Instrumentos musicales     170 \n",
            "\n"
          ]
        }
      ]
    },
    {
      "cell_type": "code",
      "source": [],
      "metadata": {
        "id": "yZR6cOjXYSk1"
      },
      "execution_count": null,
      "outputs": []
    },
    {
      "cell_type": "markdown",
      "source": [
        "# 3. Calificación promedio de la tienda\n"
      ],
      "metadata": {
        "id": "Rq6tU_xSY3jk"
      }
    },
    {
      "cell_type": "code",
      "source": [
        "# Calificación promedio por tienda\n",
        "calif_prom_tienda1 = tienda[\"Calificación\"].mean()\n",
        "calif_prom_tienda2 = tienda2[\"Calificación\"].mean()\n",
        "calif_prom_tienda3 = tienda3[\"Calificación\"].mean()\n",
        "calif_prom_tienda4 = tienda4[\"Calificación\"].mean()\n",
        "\n",
        "# Mostrar resultados\n",
        "print(\"Calificación promedio tienda 1:\", round(calif_prom_tienda1, 2))\n",
        "print(\"Calificación promedio tienda 2:\", round(calif_prom_tienda2, 2))\n",
        "print(\"Calificación promedio tienda 3:\", round(calif_prom_tienda3, 2))\n",
        "print(\"Calificación promedio tienda 4:\", round(calif_prom_tienda4, 2))\n"
      ],
      "metadata": {
        "id": "bh3jjjJwY5MU",
        "colab": {
          "base_uri": "https://localhost:8080/"
        },
        "outputId": "18c0cbb6-996d-4f8e-942b-e34a8bdd806f"
      },
      "execution_count": null,
      "outputs": [
        {
          "output_type": "stream",
          "name": "stdout",
          "text": [
            "Calificación promedio tienda 1: 3.98\n",
            "Calificación promedio tienda 2: 4.04\n",
            "Calificación promedio tienda 3: 4.05\n",
            "Calificación promedio tienda 4: 4.0\n"
          ]
        }
      ]
    },
    {
      "cell_type": "code",
      "source": [],
      "metadata": {
        "id": "I0KkjPoTY88F"
      },
      "execution_count": null,
      "outputs": []
    },
    {
      "cell_type": "markdown",
      "source": [
        "# 4. Productos más y menos vendidos"
      ],
      "metadata": {
        "id": "DmNp1KPBZCm-"
      }
    },
    {
      "cell_type": "code",
      "source": [
        "# Conteo de productos vendidos por tienda\n",
        "\n",
        "productos_tienda1 = tienda[\"Producto\"].value_counts()\n",
        "productos_tienda2 = tienda2[\"Producto\"].value_counts()\n",
        "productos_tienda3 = tienda3[\"Producto\"].value_counts()\n",
        "productos_tienda4 = tienda4[\"Producto\"].value_counts()\n",
        "\n",
        "def mostrar_top_y_bottom(productos, nombre):\n",
        "    print(f\"\\n{nombre} - Más vendido: {productos.idxmax()} ({productos.max()} ventas)\")\n",
        "    print(f\"{nombre} - Menos vendido: {productos.idxmin()} ({productos.min()} ventas)\")\n",
        "\n",
        "mostrar_top_y_bottom(productos_tienda1, \"Tienda 1\")\n",
        "mostrar_top_y_bottom(productos_tienda2, \"Tienda 2\")\n",
        "mostrar_top_y_bottom(productos_tienda3, \"Tienda 3\")\n",
        "mostrar_top_y_bottom(productos_tienda4, \"Tienda 4\")\n"
      ],
      "metadata": {
        "id": "qoyjqijQZHfF",
        "colab": {
          "base_uri": "https://localhost:8080/"
        },
        "outputId": "7be3bcae-6055-42a2-bd72-b1d4061564b4"
      },
      "execution_count": null,
      "outputs": [
        {
          "output_type": "stream",
          "name": "stdout",
          "text": [
            "\n",
            "Tienda 1 - Más vendido: Microondas (60 ventas)\n",
            "Tienda 1 - Menos vendido: Auriculares con micrófono (33 ventas)\n",
            "\n",
            "Tienda 2 - Más vendido: Iniciando en programación (65 ventas)\n",
            "Tienda 2 - Menos vendido: Juego de mesa (32 ventas)\n",
            "\n",
            "Tienda 3 - Más vendido: Kit de bancas (57 ventas)\n",
            "Tienda 3 - Menos vendido: Bloques de construcción (35 ventas)\n",
            "\n",
            "Tienda 4 - Más vendido: Cama box (62 ventas)\n",
            "Tienda 4 - Menos vendido: Guitarra eléctrica (33 ventas)\n"
          ]
        }
      ]
    },
    {
      "cell_type": "code",
      "source": [
        "def mostrar_top3_y_bottom3(productos, nombre):\n",
        "    print(f\"\\n{nombre} - 3 productos más vendidos:\\n{productos.head(3).to_string()}\\n\")\n",
        "    print(f\"{nombre} - 3 productos menos vendidos:\\n{productos.tail(3).to_string()}\\n\")\n",
        "\n",
        "mostrar_top3_y_bottom3(productos_tienda1, \"Tienda 1\")\n",
        "mostrar_top3_y_bottom3(productos_tienda2, \"Tienda 2\")\n",
        "mostrar_top3_y_bottom3(productos_tienda3, \"Tienda 3\")\n",
        "mostrar_top3_y_bottom3(productos_tienda4, \"Tienda 4\")"
      ],
      "metadata": {
        "id": "0Sw3sd4IZIGW",
        "colab": {
          "base_uri": "https://localhost:8080/"
        },
        "outputId": "c3512d8b-e343-4b44-f2a5-6d54b442aabe"
      },
      "execution_count": null,
      "outputs": [
        {
          "output_type": "stream",
          "name": "stdout",
          "text": [
            "\n",
            "Tienda 1 - 3 productos más vendidos:\n",
            "Producto\n",
            "Microondas       60\n",
            "TV LED UHD 4K    60\n",
            "Armario          60\n",
            "\n",
            "Tienda 1 - 3 productos menos vendidos:\n",
            "Producto\n",
            "Olla de presión              35\n",
            "Auriculares con micrófono    33\n",
            "Celular ABXY                 33\n",
            "\n",
            "\n",
            "Tienda 2 - 3 productos más vendidos:\n",
            "Producto\n",
            "Iniciando en programación    65\n",
            "Microondas                   62\n",
            "Batería                      61\n",
            "\n",
            "Tienda 2 - 3 productos menos vendidos:\n",
            "Producto\n",
            "Mesa de comedor    34\n",
            "Impresora          34\n",
            "Juego de mesa      32\n",
            "\n",
            "\n",
            "Tienda 3 - 3 productos más vendidos:\n",
            "Producto\n",
            "Kit de bancas      57\n",
            "Mesa de comedor    56\n",
            "Cama king          56\n",
            "\n",
            "Tienda 3 - 3 productos menos vendidos:\n",
            "Producto\n",
            "Mochila                    36\n",
            "Microondas                 36\n",
            "Bloques de construcción    35\n",
            "\n",
            "\n",
            "Tienda 4 - 3 productos más vendidos:\n",
            "Producto\n",
            "Cama box                   62\n",
            "Cubertería                 59\n",
            "Dashboards con Power BI    56\n",
            "\n",
            "Tienda 4 - 3 productos menos vendidos:\n",
            "Producto\n",
            "Guitarra acústica     37\n",
            "Armario               34\n",
            "Guitarra eléctrica    33\n",
            "\n"
          ]
        }
      ]
    },
    {
      "cell_type": "markdown",
      "source": [
        "# 5. Envío promedio por tienda"
      ],
      "metadata": {
        "id": "Fl0cGi3bZKqU"
      }
    },
    {
      "cell_type": "code",
      "source": [
        "# Calcular costo de envío promedio por tienda\n",
        "envio_prom_tienda1 = tienda[\"Costo de envío\"].mean()\n",
        "envio_prom_tienda2 = tienda2[\"Costo de envío\"].mean()\n",
        "envio_prom_tienda3 = tienda3[\"Costo de envío\"].mean()\n",
        "envio_prom_tienda4 = tienda4[\"Costo de envío\"].mean()\n",
        "\n",
        "\n",
        "# Mostrar resultados redondeados a 2 decimales\n",
        "print(\"Costo de envío promedio tienda 1:\", round(envio_prom_tienda1, 2))\n",
        "print(\"Costo de envío promedio tienda 2:\", round(envio_prom_tienda2, 2))\n",
        "print(\"Costo de envío promedio tienda 3:\", round(envio_prom_tienda3, 2))\n",
        "print(\"Costo de envío promedio tienda 4:\", round(envio_prom_tienda4, 2))\n"
      ],
      "metadata": {
        "id": "S2JeaCykZNy9",
        "colab": {
          "base_uri": "https://localhost:8080/"
        },
        "outputId": "68873eac-71cd-4ee1-a5c7-ff68854b48fa"
      },
      "execution_count": null,
      "outputs": [
        {
          "output_type": "stream",
          "name": "stdout",
          "text": [
            "Costo de envío promedio tienda 1: 26018.61\n",
            "Costo de envío promedio tienda 2: 25216.24\n",
            "Costo de envío promedio tienda 3: 24805.68\n",
            "Costo de envío promedio tienda 4: 23459.46\n"
          ]
        }
      ]
    },
    {
      "cell_type": "code",
      "source": [
        "#Grafico de calificacion promedio por tienda\n",
        "plt.figure(figsize=(5,3))\n",
        "plt.scatter(tiendas, calificaciones, color='purple', s=100)\n",
        "plt.title('Calificación Promedio por Tienda')\n",
        "plt.ylabel('Calificación')\n",
        "plt.ylim(0, 5)\n",
        "plt.grid(axis='y', linestyle='--', alpha=0.7)\n",
        "plt.show()\n",
        "\n",
        "\n"
      ],
      "metadata": {
        "id": "0tSdCie9ZQlt",
        "colab": {
          "base_uri": "https://localhost:8080/",
          "height": 314
        },
        "outputId": "98467c38-c170-43a4-c95f-1cc11925a0a6"
      },
      "execution_count": null,
      "outputs": [
        {
          "output_type": "display_data",
          "data": {
            "text/plain": [
              "<Figure size 500x300 with 1 Axes>"
            ],
            "image/png": "[encoded data removed]"
          },
          "metadata": {}
        }
      ]
    },
    {
      "cell_type": "code",
      "source": [
        "import matplotlib.pyplot as plt\n",
        "\n",
        "# Variables de calificación promedio por tienda\n",
        "calificaciones = [calif_prom_tienda1, calif_prom_tienda2, calif_prom_tienda3, calif_prom_tienda4]\n",
        "tiendas = ['Tienda 1', 'Tienda 2', 'Tienda 3', 'Tienda 4']\n",
        "\n",
        "plt.figure(figsize=(5,3))\n",
        "plt.bar(tiendas, calificaciones, color='orange')\n",
        "plt.title('Calificación Promedio por Tienda')\n",
        "plt.xlabel('Tienda')\n",
        "plt.ylabel('Calificación Promedio')\n",
        "plt.ylim(0, 5)  # Asumiendo calificaciones en escala 1-5\n",
        "plt.grid(axis='y', linestyle='--', alpha=0.7)\n",
        "plt.show()\n"
      ],
      "metadata": {
        "colab": {
          "base_uri": "https://localhost:8080/",
          "height": 334
        },
        "id": "CfvbqyVcmLQc",
        "outputId": "bc7eebb2-4346-4366-816e-deae0f1c1544"
      },
      "execution_count": null,
      "outputs": [
        {
          "output_type": "display_data",
          "data": {
            "text/plain": [
              "<Figure size 500x300 with 1 Axes>"
            ],
            "image/png": "[encoded data removed]"
          },
          "metadata": {}
        }
      ]
    },
    {
      "cell_type": "code",
      "source": [
        "import matplotlib.pyplot as plt\n",
        "import pandas as pd\n",
        "import numpy as np\n",
        "\n",
        "# Primero, unificamos las categorías para que todas las tiendas tengan las mismas en el gráfico\n",
        "categorias = sorted(set(cat_tienda1.index) | set(cat_tienda2.index) | set(cat_tienda3.index) | set(cat_tienda4.index))\n",
        "\n",
        "# Crear DataFrame con las cantidades por categoría para cada tienda, rellenando con 0 donde no haya categoría\n",
        "df_categorias = pd.DataFrame({\n",
        "    'Tienda 1': cat_tienda1.reindex(categorias, fill_value=0),\n",
        "    'Tienda 2': cat_tienda2.reindex(categorias, fill_value=0),\n",
        "    'Tienda 3': cat_tienda3.reindex(categorias, fill_value=0),\n",
        "    'Tienda 4': cat_tienda4.reindex(categorias, fill_value=0),\n",
        "})\n",
        "\n",
        "# Gráfico de barras agrupadas (side-by-side)\n",
        "bar_width = 0.2\n",
        "indices = np.arange(len(categorias))\n",
        "\n",
        "plt.figure(figsize=(9,6))\n",
        "\n",
        "plt.bar(indices - 1.5*bar_width, df_categorias['Tienda 1'], width=bar_width, label='Tienda 1')\n",
        "plt.bar(indices - 0.5*bar_width, df_categorias['Tienda 2'], width=bar_width, label='Tienda 2')\n",
        "plt.bar(indices + 0.5*bar_width, df_categorias['Tienda 3'], width=bar_width, label='Tienda 3')\n",
        "plt.bar(indices + 1.5*bar_width, df_categorias['Tienda 4'], width=bar_width, label='Tienda 4')\n",
        "\n",
        "plt.xticks(indices, categorias, rotation=45, ha='right')\n",
        "plt.xlabel('Categoría del Producto')\n",
        "plt.ylabel('Cantidad de Productos Vendidos')\n",
        "plt.title('Ventas por Categoría en Cada Tienda')\n",
        "plt.legend()\n",
        "plt.tight_layout()\n",
        "plt.show()\n"
      ],
      "metadata": {
        "colab": {
          "base_uri": "https://localhost:8080/",
          "height": 607
        },
        "id": "fgFnCFBWoYQZ",
        "outputId": "2bb25cd9-808c-4095-e37b-0ddf669d671d"
      },
      "execution_count": null,
      "outputs": [
        {
          "output_type": "display_data",
          "data": {
            "text/plain": [
              "<Figure size 900x600 with 1 Axes>"
            ],
            "image/png": "[encoded data removed]"
          },
          "metadata": {}
        }
      ]
    },
    {
      "cell_type": "markdown",
      "source": [
        "El presente informe tiene como objetivo brindar una recomendación clara y fundamentada al Sr. Juan respecto a cuál de sus cuatro tiendas debe vender para invertir en un nuevo negocio.\n",
        "\n",
        "Para ello, se realizó un análisis considerando varios factores clave: los ingresos totales de cada tienda, las categorías de productos más y menos vendidas, la calificación promedio otorgada por los clientes, los productos con mejor y peor desempeño en ventas y el costo promedio de envío por tienda.\n",
        "\n",
        "\n",
        "En cuanto a los ingresos, la Tienda 1 fue la que más generó con 1,150,880,400.0, seguida por la Tienda 2 con 1,116,343,500.0, la Tienda 3 con 1,098,019,600.0, y finalmente la Tienda 4 con 1,038,375,700.0, siendo esta última la menos rentable.\n",
        "  \n",
        "En relación con la calificación promedio de los clientes, la Tienda 3 lidera con 4.05, seguida por la Tienda 2 con 4.04, la Tienda 4 con 4.00 y la Tienda 1 con la más baja, 3.98.\n",
        "   \n",
        "    \n",
        "En cuanto al costo de envío promedio, la Tienda 4 fue la más eficiente con un costo de 23,459.46, seguida por la Tienda 3 con 24,805.68, la Tienda 2 con 25,216.24 y la Tienda 1 con el costo más alto, 26,018.61.\n",
        "\n",
        "con respecto a los productos mas y menos vendidos de cada tienda se detalla lo siguiente:\n",
        "Tienda 1 - Más vendido: Microondas (60 ventas)\n",
        "Tienda 1 - Menos vendido: Auriculares con micrófono (33 ventas)\n",
        "\n",
        "Tienda 2 - Más vendido: Iniciando en programación (65 ventas)\n",
        "Tienda 2 - Menos vendido: Juego de mesa (32 ventas)\n",
        "\n",
        "Tienda 3 - Más vendido: Kit de bancas (57 ventas)\n",
        "Tienda 3 - Menos vendido: Bloques de construcción (35 ventas)\n",
        "\n",
        "Tienda 4 - Más vendido: Cama box (62 ventas)\n",
        "Tienda 4 - Menos vendido: Guitarra eléctrica (33 ventas)\n",
        "\n",
        "   \n",
        "   \n",
        "     \n",
        "se concluye que la Tienda 4 es la opción más adecuada para vender, ya que presenta el ingreso total más bajo, una calificación que no destaca frente a las demás y, aunque tiene el costo de envío más bajo, esto no compensa su baja rentabilidad general. Por tanto, se recomienda vender la Tienda 4 y utilizar el capital recuperado para invertir en un negocio con mayores posibilidades de crecimiento."
      ],
      "metadata": {
        "id": "9ONhC5dmL_u9"
      }
    }
  ]
}